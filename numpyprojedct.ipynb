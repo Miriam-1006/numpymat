{
  "nbformat": 4,
  "nbformat_minor": 0,
  "metadata": {
    "colab": {
      "provenance": [],
      "authorship_tag": "ABX9TyN8JzRDQliS1DWh9y9TWCG0",
      "include_colab_link": true
    },
    "kernelspec": {
      "name": "python3",
      "display_name": "Python 3"
    },
    "language_info": {
      "name": "python"
    }
  },
  "cells": [
    {
      "cell_type": "markdown",
      "metadata": {
        "id": "view-in-github",
        "colab_type": "text"
      },
      "source": [
        "<a href=\"https://colab.research.google.com/github/Miriam-1006/numpymat/blob/main/numpyprojedct.ipynb\" target=\"_parent\"><img src=\"https://colab.research.google.com/assets/colab-badge.svg\" alt=\"Open In Colab\"/></a>"
      ]
    },
    {
      "cell_type": "code",
      "execution_count": 1,
      "metadata": {
        "id": "fMTeCiQ_6L_k"
      },
      "outputs": [],
      "source": [
        "import numpy as np"
      ]
    },
    {
      "cell_type": "code",
      "source": [
        "import sys"
      ],
      "metadata": {
        "id": "yxmY9GD47udq"
      },
      "execution_count": 2,
      "outputs": []
    },
    {
      "cell_type": "code",
      "source": [
        ""
      ],
      "metadata": {
        "id": "rGtBKhXL8AzX"
      },
      "execution_count": null,
      "outputs": []
    },
    {
      "cell_type": "code",
      "source": [
        "total_count = 100**5\n",
        "def inside_circle(total_count):\n",
        "  x = np.random.uniform(size= total_count)\n",
        "  y = np.random.uniform(size= total_count)\n",
        "  radii = np.sqrt(x*x +y*y)\n",
        "  count = len(radii[np.where(radii<=1.0)])\n",
        "  return count"
      ],
      "metadata": {
        "id": "GnsjimyO7vLY"
      },
      "execution_count": 10,
      "outputs": []
    },
    {
      "cell_type": "code",
      "source": [],
      "metadata": {
        "colab": {
          "base_uri": "https://localhost:8080/",
          "height": 103
        },
        "id": "ss4yogeO8pZc",
        "outputId": "dd251bea-04a4-43bc-8be5-7060d724c14e"
      },
      "execution_count": 7,
      "outputs": [
        {
          "output_type": "execute_result",
          "data": {
            "text/plain": [
              "<function __main__.inside_circle(total_count)>"
            ],
            "text/html": [
              "<div style=\"max-width:800px; border: 1px solid var(--colab-border-color);\"><style>\n",
              "      pre.function-repr-contents {\n",
              "        overflow-x: auto;\n",
              "        padding: 8px 12px;\n",
              "        max-height: 500px;\n",
              "      }\n",
              "\n",
              "      pre.function-repr-contents.function-repr-contents-collapsed {\n",
              "        cursor: pointer;\n",
              "        max-height: 100px;\n",
              "      }\n",
              "    </style>\n",
              "    <pre style=\"white-space: initial; background:\n",
              "         var(--colab-secondary-surface-color); padding: 8px 12px;\n",
              "         border-bottom: 1px solid var(--colab-border-color);\"><b>inside_circle</b><br/>def inside_circle(total_count)</pre><pre class=\"function-repr-contents function-repr-contents-collapsed\" style=\"\"><a class=\"filepath\" style=\"display:none\" href=\"#\">/content/&lt;ipython-input-6-cefefaba4b72&gt;</a>&lt;no docstring&gt;</pre></div>"
            ]
          },
          "metadata": {},
          "execution_count": 7
        }
      ]
    },
    {
      "cell_type": "code",
      "source": [
        "def main():\n",
        "  n_samples = int(15)\n",
        "  counts = inside_circle(n_samples)\n",
        "  my_pi = 4.0 * counts / n_samples\n",
        "  print(\"pi:\", my_pi, \", number of samples:\", total_count, \", memory used:\")\n",
        "\n",
        "if __name__ == '__main__':\n",
        "  main()\n",
        "  %timeit -n 1 -r 1 result = main()"
      ],
      "metadata": {
        "colab": {
          "base_uri": "https://localhost:8080/"
        },
        "id": "fY3HtDnF8sYU",
        "outputId": "e8dda7cc-861f-44a4-fffc-36f19a257a72"
      },
      "execution_count": 19,
      "outputs": [
        {
          "output_type": "stream",
          "name": "stdout",
          "text": [
            "pi: 2.933333333333333 , number of samples: 10000000000 , memory used:\n",
            "pi: 3.2 , number of samples: 10000000000 , memory used:\n",
            "152 µs ± 0 ns per loop (mean ± std. dev. of 1 run, 1 loop each)\n"
          ]
        }
      ]
    }
  ]
}