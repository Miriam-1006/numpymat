{
  "nbformat": 4,
  "nbformat_minor": 0,
  "metadata": {
    "colab": {
      "provenance": [],
      "gpuType": "T4",
      "authorship_tag": "ABX9TyPddDyqL1pOwwpcl/BXoW2G",
      "include_colab_link": true
    },
    "kernelspec": {
      "name": "python3",
      "display_name": "Python 3"
    },
    "language_info": {
      "name": "python"
    },
    "accelerator": "GPU"
  },
  "cells": [
    {
      "cell_type": "markdown",
      "metadata": {
        "id": "view-in-github",
        "colab_type": "text"
      },
      "source": [
        "<a href=\"https://colab.research.google.com/github/Miriam-1006/numpymat/blob/main/numpyprojedct.ipynb\" target=\"_parent\"><img src=\"https://colab.research.google.com/assets/colab-badge.svg\" alt=\"Open In Colab\"/></a>"
      ]
    },
    {
      "cell_type": "code",
      "execution_count": 3,
      "metadata": {
        "id": "fMTeCiQ_6L_k"
      },
      "outputs": [],
      "source": [
        "import numpy as np"
      ]
    },
    {
      "cell_type": "code",
      "source": [
        "import sys\n",
        "import datetime\n",
        "import math"
      ],
      "metadata": {
        "id": "yxmY9GD47udq"
      },
      "execution_count": 4,
      "outputs": []
    },
    {
      "cell_type": "code",
      "source": [
        "total_count = 10**4\n",
        "def inside_circle(total_count):\n",
        "  x = np.random.uniform(size= total_count)\n",
        "  y = np.random.uniform(size= total_count)\n",
        "  radii = np.sqrt(x*x +y*y)\n",
        "  count = len(radii[np.where(radii<=1.0)])\n",
        "  return count"
      ],
      "metadata": {
        "id": "GnsjimyO7vLY"
      },
      "execution_count": 6,
      "outputs": []
    },
    {
      "cell_type": "code",
      "source": [
        "def main():\n",
        "  n_samples = int(total_count)\n",
        "  start_time = datetime.datetime.now()\n",
        "  counts = inside_circle(n_samples)\n",
        "  end_time = datetime.datetime.now()\n",
        "  elapsed_time = (end_time - start_time).total_seconds()\n",
        "  my_pi = 4.0 * counts / n_samples\n",
        "  relativeError = abs(abs(my_pi-math.pi)/math.pi)\n",
        "  size_of_float = np.dtype(np.float64).itemsize\n",
        "  memory_required = 3 * n_samples * size_of_float / (1024**3)\n",
        "  print(\"Pi: {}, Estimated Pi: {}, Relative Error: {}, memory: {} GiB, time: {} s\".format(math.pi, my_pi, relativeError, memory_required, elapsed_time))\n",
        "\n",
        "if __name__ == '__main__':\n",
        "  main()"
      ],
      "metadata": {
        "colab": {
          "base_uri": "https://localhost:8080/"
        },
        "id": "fY3HtDnF8sYU",
        "outputId": "b33cb7d6-bb8f-4b2f-bae8-816c2e05d156"
      },
      "execution_count": 7,
      "outputs": [
        {
          "output_type": "stream",
          "name": "stdout",
          "text": [
            "Pi: 3.141592653589793, Estimated Pi: 3.1568, Relative Error: 0.0048406487049904474, memory: 0.00022351741790771484 GiB, time: 0.000726 s\n"
          ]
        }
      ]
    },
    {
      "cell_type": "markdown",
      "source": [
        "7a."
      ],
      "metadata": {
        "id": "av4FlQHQCg9E"
      }
    },
    {
      "cell_type": "markdown",
      "source": [
        "7b."
      ],
      "metadata": {
        "id": "c2XNguCHCnAF"
      }
    },
    {
      "cell_type": "markdown",
      "source": [
        "7c."
      ],
      "metadata": {
        "id": "mr8azQFWCrXk"
      }
    }
  ]
}