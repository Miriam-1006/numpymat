{
  "nbformat": 4,
  "nbformat_minor": 0,
  "metadata": {
    "colab": {
      "provenance": [],
      "gpuType": "T4",
      "authorship_tag": "ABX9TyPEqme1Nt9f9kmpq8fn3cFf",
      "include_colab_link": true
    },
    "kernelspec": {
      "name": "python3",
      "display_name": "Python 3"
    },
    "language_info": {
      "name": "python"
    },
    "accelerator": "GPU"
  },
  "cells": [
    {
      "cell_type": "markdown",
      "metadata": {
        "id": "view-in-github",
        "colab_type": "text"
      },
      "source": [
        "<a href=\"https://colab.research.google.com/github/Miriam-1006/numpymat/blob/main/numpyprojedct.ipynb\" target=\"_parent\"><img src=\"https://colab.research.google.com/assets/colab-badge.svg\" alt=\"Open In Colab\"/></a>"
      ]
    },
    {
      "cell_type": "code",
      "execution_count": 2,
      "metadata": {
        "id": "fMTeCiQ_6L_k"
      },
      "outputs": [],
      "source": [
        "import numpy as np"
      ]
    },
    {
      "cell_type": "code",
      "source": [
        "import sys\n",
        "import datetime\n",
        "import math\n",
        "import matplotlib\n",
        "import csv"
      ],
      "metadata": {
        "id": "yxmY9GD47udq"
      },
      "execution_count": 3,
      "outputs": []
    },
    {
      "cell_type": "code",
      "source": [
        "total_count = 10**2\n",
        "def inside_circle(total_count):\n",
        "  x = np.random.uniform(size= total_count)\n",
        "  y = np.random.uniform(size= total_count)\n",
        "  radii = np.sqrt(x*x +y*y)\n",
        "  count = len(radii[np.where(radii<=1.0)])\n",
        "  return count"
      ],
      "metadata": {
        "id": "GnsjimyO7vLY"
      },
      "execution_count": 5,
      "outputs": []
    },
    {
      "cell_type": "code",
      "source": [
        "def main():\n",
        "  import csv\n",
        "  f = open('numpyfile.csv', 'w', newline='')\n",
        "  writer = csv.writer(f)\n",
        "  n_samples = int(total_count)\n",
        "  start_time = datetime.datetime.now()\n",
        "  for i in range(n_samples):\n",
        "    counts = inside_circle(n_samples)\n",
        "    my_pi = 4.0 * counts / n_samples\n",
        "    relativeError = abs(abs(my_pi-math.pi)/math.pi)\n",
        "    size_of_float = np.dtype(np.float64).itemsize\n",
        "    end_time = datetime.datetime.now()\n",
        "    elapsed_time = (end_time - start_time).total_seconds()\n",
        "    memory_required = 3 * n_samples * size_of_float / (1024**3)\n",
        "    row = [math.pi, my_pi, relativeError, memory_required, elapsed_time]\n",
        "    writer.writerow(row)\n",
        "    print(\"Pi: {}, Estimated Pi: {}, Relative Error: {}, memory: {} GiB, time: {} s\".format(math.pi, my_pi, relativeError, memory_required, elapsed_time))\n",
        "\n",
        "if __name__ == '__main__':\n",
        "  main()"
      ],
      "metadata": {
        "colab": {
          "base_uri": "https://localhost:8080/"
        },
        "id": "fY3HtDnF8sYU",
        "outputId": "54698363-78c3-4b22-b4f8-cd3154685a8b"
      },
      "execution_count": 6,
      "outputs": [
        {
          "output_type": "stream",
          "name": "stdout",
          "text": [
            "Pi: 3.141592653589793, Estimated Pi: 3.24, Relative Error: 0.031324031235481886, memory: 2.2351741790771484e-06 GiB, time: 0.003799 s\n",
            "Pi: 3.141592653589793, Estimated Pi: 3.4, Relative Error: 0.0822536130248883, memory: 2.2351741790771484e-06 GiB, time: 0.003962 s\n",
            "Pi: 3.141592653589793, Estimated Pi: 3.12, Relative Error: 0.006873155106573032, memory: 2.2351741790771484e-06 GiB, time: 0.004019 s\n",
            "Pi: 3.141592653589793, Estimated Pi: 3.4, Relative Error: 0.0822536130248883, memory: 2.2351741790771484e-06 GiB, time: 0.004079 s\n",
            "Pi: 3.141592653589793, Estimated Pi: 3.2, Relative Error: 0.018591635788130244, memory: 2.2351741790771484e-06 GiB, time: 0.004145 s\n",
            "Pi: 3.141592653589793, Estimated Pi: 3.16, Relative Error: 0.005859240340778607, memory: 2.2351741790771484e-06 GiB, time: 0.004208 s\n",
            "Pi: 3.141592653589793, Estimated Pi: 3.12, Relative Error: 0.006873155106573032, memory: 2.2351741790771484e-06 GiB, time: 0.004263 s\n",
            "Pi: 3.141592653589793, Estimated Pi: 3.44, Relative Error: 0.09498600847223994, memory: 2.2351741790771484e-06 GiB, time: 0.004326 s\n",
            "Pi: 3.141592653589793, Estimated Pi: 3.04, Relative Error: 0.03233794600127631, memory: 2.2351741790771484e-06 GiB, time: 0.004382 s\n",
            "Pi: 3.141592653589793, Estimated Pi: 3.04, Relative Error: 0.03233794600127631, memory: 2.2351741790771484e-06 GiB, time: 0.004438 s\n",
            "Pi: 3.141592653589793, Estimated Pi: 3.08, Relative Error: 0.01960555055392467, memory: 2.2351741790771484e-06 GiB, time: 0.004491 s\n",
            "Pi: 3.141592653589793, Estimated Pi: 2.84, Relative Error: 0.09599992323803451, memory: 2.2351741790771484e-06 GiB, time: 0.004544 s\n",
            "Pi: 3.141592653589793, Estimated Pi: 3.28, Relative Error: 0.04405642668283338, memory: 2.2351741790771484e-06 GiB, time: 0.004596 s\n",
            "Pi: 3.141592653589793, Estimated Pi: 2.96, Relative Error: 0.05780273689597959, memory: 2.2351741790771484e-06 GiB, time: 0.004648 s\n",
            "Pi: 3.141592653589793, Estimated Pi: 3.0, Relative Error: 0.04507034144862795, memory: 2.2351741790771484e-06 GiB, time: 0.0047 s\n",
            "Pi: 3.141592653589793, Estimated Pi: 3.2, Relative Error: 0.018591635788130244, memory: 2.2351741790771484e-06 GiB, time: 0.004776 s\n",
            "Pi: 3.141592653589793, Estimated Pi: 2.72, Relative Error: 0.1341971095800893, memory: 2.2351741790771484e-06 GiB, time: 0.004841 s\n",
            "Pi: 3.141592653589793, Estimated Pi: 3.28, Relative Error: 0.04405642668283338, memory: 2.2351741790771484e-06 GiB, time: 0.004908 s\n",
            "Pi: 3.141592653589793, Estimated Pi: 3.0, Relative Error: 0.04507034144862795, memory: 2.2351741790771484e-06 GiB, time: 0.004964 s\n",
            "Pi: 3.141592653589793, Estimated Pi: 3.28, Relative Error: 0.04405642668283338, memory: 2.2351741790771484e-06 GiB, time: 0.005015 s\n",
            "Pi: 3.141592653589793, Estimated Pi: 2.96, Relative Error: 0.05780273689597959, memory: 2.2351741790771484e-06 GiB, time: 0.005067 s\n",
            "Pi: 3.141592653589793, Estimated Pi: 3.2, Relative Error: 0.018591635788130244, memory: 2.2351741790771484e-06 GiB, time: 0.005118 s\n",
            "Pi: 3.141592653589793, Estimated Pi: 3.4, Relative Error: 0.0822536130248883, memory: 2.2351741790771484e-06 GiB, time: 0.005174 s\n",
            "Pi: 3.141592653589793, Estimated Pi: 3.0, Relative Error: 0.04507034144862795, memory: 2.2351741790771484e-06 GiB, time: 0.005225 s\n",
            "Pi: 3.141592653589793, Estimated Pi: 3.2, Relative Error: 0.018591635788130244, memory: 2.2351741790771484e-06 GiB, time: 0.005276 s\n",
            "Pi: 3.141592653589793, Estimated Pi: 3.28, Relative Error: 0.04405642668283338, memory: 2.2351741790771484e-06 GiB, time: 0.005327 s\n",
            "Pi: 3.141592653589793, Estimated Pi: 3.12, Relative Error: 0.006873155106573032, memory: 2.2351741790771484e-06 GiB, time: 0.005378 s\n",
            "Pi: 3.141592653589793, Estimated Pi: 3.28, Relative Error: 0.04405642668283338, memory: 2.2351741790771484e-06 GiB, time: 0.005489 s\n",
            "Pi: 3.141592653589793, Estimated Pi: 2.92, Relative Error: 0.07053513234333122, memory: 2.2351741790771484e-06 GiB, time: 0.005562 s\n",
            "Pi: 3.141592653589793, Estimated Pi: 3.16, Relative Error: 0.005859240340778607, memory: 2.2351741790771484e-06 GiB, time: 0.006473 s\n",
            "Pi: 3.141592653589793, Estimated Pi: 3.04, Relative Error: 0.03233794600127631, memory: 2.2351741790771484e-06 GiB, time: 0.006552 s\n",
            "Pi: 3.141592653589793, Estimated Pi: 3.2, Relative Error: 0.018591635788130244, memory: 2.2351741790771484e-06 GiB, time: 0.006603 s\n",
            "Pi: 3.141592653589793, Estimated Pi: 3.4, Relative Error: 0.0822536130248883, memory: 2.2351741790771484e-06 GiB, time: 0.006649 s\n",
            "Pi: 3.141592653589793, Estimated Pi: 3.16, Relative Error: 0.005859240340778607, memory: 2.2351741790771484e-06 GiB, time: 0.006695 s\n",
            "Pi: 3.141592653589793, Estimated Pi: 2.84, Relative Error: 0.09599992323803451, memory: 2.2351741790771484e-06 GiB, time: 0.006757 s\n",
            "Pi: 3.141592653589793, Estimated Pi: 3.12, Relative Error: 0.006873155106573032, memory: 2.2351741790771484e-06 GiB, time: 0.006802 s\n",
            "Pi: 3.141592653589793, Estimated Pi: 3.24, Relative Error: 0.031324031235481886, memory: 2.2351741790771484e-06 GiB, time: 0.006855 s\n",
            "Pi: 3.141592653589793, Estimated Pi: 3.12, Relative Error: 0.006873155106573032, memory: 2.2351741790771484e-06 GiB, time: 0.0069 s\n",
            "Pi: 3.141592653589793, Estimated Pi: 3.16, Relative Error: 0.005859240340778607, memory: 2.2351741790771484e-06 GiB, time: 0.006942 s\n",
            "Pi: 3.141592653589793, Estimated Pi: 3.32, Relative Error: 0.05678882213018502, memory: 2.2351741790771484e-06 GiB, time: 0.006969 s\n",
            "Pi: 3.141592653589793, Estimated Pi: 3.24, Relative Error: 0.031324031235481886, memory: 2.2351741790771484e-06 GiB, time: 0.006994 s\n",
            "Pi: 3.141592653589793, Estimated Pi: 3.16, Relative Error: 0.005859240340778607, memory: 2.2351741790771484e-06 GiB, time: 0.00702 s\n",
            "Pi: 3.141592653589793, Estimated Pi: 3.16, Relative Error: 0.005859240340778607, memory: 2.2351741790771484e-06 GiB, time: 0.007045 s\n",
            "Pi: 3.141592653589793, Estimated Pi: 3.08, Relative Error: 0.01960555055392467, memory: 2.2351741790771484e-06 GiB, time: 0.00707 s\n",
            "Pi: 3.141592653589793, Estimated Pi: 2.92, Relative Error: 0.07053513234333122, memory: 2.2351741790771484e-06 GiB, time: 0.007095 s\n",
            "Pi: 3.141592653589793, Estimated Pi: 3.32, Relative Error: 0.05678882213018502, memory: 2.2351741790771484e-06 GiB, time: 0.007119 s\n",
            "Pi: 3.141592653589793, Estimated Pi: 3.36, Relative Error: 0.06952121757753665, memory: 2.2351741790771484e-06 GiB, time: 0.007144 s\n",
            "Pi: 3.141592653589793, Estimated Pi: 3.48, Relative Error: 0.10771840391959157, memory: 2.2351741790771484e-06 GiB, time: 0.007188 s\n",
            "Pi: 3.141592653589793, Estimated Pi: 2.84, Relative Error: 0.09599992323803451, memory: 2.2351741790771484e-06 GiB, time: 0.007223 s\n",
            "Pi: 3.141592653589793, Estimated Pi: 3.24, Relative Error: 0.031324031235481886, memory: 2.2351741790771484e-06 GiB, time: 0.007248 s\n",
            "Pi: 3.141592653589793, Estimated Pi: 3.28, Relative Error: 0.04405642668283338, memory: 2.2351741790771484e-06 GiB, time: 0.007273 s\n",
            "Pi: 3.141592653589793, Estimated Pi: 3.0, Relative Error: 0.04507034144862795, memory: 2.2351741790771484e-06 GiB, time: 0.007298 s\n",
            "Pi: 3.141592653589793, Estimated Pi: 3.16, Relative Error: 0.005859240340778607, memory: 2.2351741790771484e-06 GiB, time: 0.007322 s\n",
            "Pi: 3.141592653589793, Estimated Pi: 3.28, Relative Error: 0.04405642668283338, memory: 2.2351741790771484e-06 GiB, time: 0.007348 s\n",
            "Pi: 3.141592653589793, Estimated Pi: 3.16, Relative Error: 0.005859240340778607, memory: 2.2351741790771484e-06 GiB, time: 0.007372 s\n",
            "Pi: 3.141592653589793, Estimated Pi: 3.36, Relative Error: 0.06952121757753665, memory: 2.2351741790771484e-06 GiB, time: 0.007397 s\n",
            "Pi: 3.141592653589793, Estimated Pi: 3.16, Relative Error: 0.005859240340778607, memory: 2.2351741790771484e-06 GiB, time: 0.007424 s\n",
            "Pi: 3.141592653589793, Estimated Pi: 3.36, Relative Error: 0.06952121757753665, memory: 2.2351741790771484e-06 GiB, time: 0.007449 s\n",
            "Pi: 3.141592653589793, Estimated Pi: 3.08, Relative Error: 0.01960555055392467, memory: 2.2351741790771484e-06 GiB, time: 0.007473 s\n",
            "Pi: 3.141592653589793, Estimated Pi: 3.12, Relative Error: 0.006873155106573032, memory: 2.2351741790771484e-06 GiB, time: 0.007498 s\n",
            "Pi: 3.141592653589793, Estimated Pi: 3.16, Relative Error: 0.005859240340778607, memory: 2.2351741790771484e-06 GiB, time: 0.007523 s\n",
            "Pi: 3.141592653589793, Estimated Pi: 3.04, Relative Error: 0.03233794600127631, memory: 2.2351741790771484e-06 GiB, time: 0.007548 s\n",
            "Pi: 3.141592653589793, Estimated Pi: 3.32, Relative Error: 0.05678882213018502, memory: 2.2351741790771484e-06 GiB, time: 0.007572 s\n",
            "Pi: 3.141592653589793, Estimated Pi: 3.12, Relative Error: 0.006873155106573032, memory: 2.2351741790771484e-06 GiB, time: 0.007597 s\n",
            "Pi: 3.141592653589793, Estimated Pi: 2.96, Relative Error: 0.05780273689597959, memory: 2.2351741790771484e-06 GiB, time: 0.007625 s\n",
            "Pi: 3.141592653589793, Estimated Pi: 3.04, Relative Error: 0.03233794600127631, memory: 2.2351741790771484e-06 GiB, time: 0.007651 s\n",
            "Pi: 3.141592653589793, Estimated Pi: 3.12, Relative Error: 0.006873155106573032, memory: 2.2351741790771484e-06 GiB, time: 0.007676 s\n",
            "Pi: 3.141592653589793, Estimated Pi: 3.12, Relative Error: 0.006873155106573032, memory: 2.2351741790771484e-06 GiB, time: 0.0077 s\n",
            "Pi: 3.141592653589793, Estimated Pi: 3.2, Relative Error: 0.018591635788130244, memory: 2.2351741790771484e-06 GiB, time: 0.007746 s\n",
            "Pi: 3.141592653589793, Estimated Pi: 3.12, Relative Error: 0.006873155106573032, memory: 2.2351741790771484e-06 GiB, time: 0.007784 s\n",
            "Pi: 3.141592653589793, Estimated Pi: 3.2, Relative Error: 0.018591635788130244, memory: 2.2351741790771484e-06 GiB, time: 0.007809 s\n",
            "Pi: 3.141592653589793, Estimated Pi: 3.04, Relative Error: 0.03233794600127631, memory: 2.2351741790771484e-06 GiB, time: 0.007834 s\n",
            "Pi: 3.141592653589793, Estimated Pi: 3.36, Relative Error: 0.06952121757753665, memory: 2.2351741790771484e-06 GiB, time: 0.007858 s\n",
            "Pi: 3.141592653589793, Estimated Pi: 3.44, Relative Error: 0.09498600847223994, memory: 2.2351741790771484e-06 GiB, time: 0.007883 s\n",
            "Pi: 3.141592653589793, Estimated Pi: 3.28, Relative Error: 0.04405642668283338, memory: 2.2351741790771484e-06 GiB, time: 0.007908 s\n",
            "Pi: 3.141592653589793, Estimated Pi: 3.0, Relative Error: 0.04507034144862795, memory: 2.2351741790771484e-06 GiB, time: 0.007933 s\n",
            "Pi: 3.141592653589793, Estimated Pi: 3.04, Relative Error: 0.03233794600127631, memory: 2.2351741790771484e-06 GiB, time: 0.007957 s\n",
            "Pi: 3.141592653589793, Estimated Pi: 3.24, Relative Error: 0.031324031235481886, memory: 2.2351741790771484e-06 GiB, time: 0.007982 s\n",
            "Pi: 3.141592653589793, Estimated Pi: 3.2, Relative Error: 0.018591635788130244, memory: 2.2351741790771484e-06 GiB, time: 0.008007 s\n",
            "Pi: 3.141592653589793, Estimated Pi: 2.84, Relative Error: 0.09599992323803451, memory: 2.2351741790771484e-06 GiB, time: 0.008032 s\n",
            "Pi: 3.141592653589793, Estimated Pi: 3.2, Relative Error: 0.018591635788130244, memory: 2.2351741790771484e-06 GiB, time: 0.008056 s\n",
            "Pi: 3.141592653589793, Estimated Pi: 3.24, Relative Error: 0.031324031235481886, memory: 2.2351741790771484e-06 GiB, time: 0.008081 s\n",
            "Pi: 3.141592653589793, Estimated Pi: 3.12, Relative Error: 0.006873155106573032, memory: 2.2351741790771484e-06 GiB, time: 0.008105 s\n",
            "Pi: 3.141592653589793, Estimated Pi: 3.32, Relative Error: 0.05678882213018502, memory: 2.2351741790771484e-06 GiB, time: 0.00813 s\n",
            "Pi: 3.141592653589793, Estimated Pi: 2.72, Relative Error: 0.1341971095800893, memory: 2.2351741790771484e-06 GiB, time: 0.008155 s\n",
            "Pi: 3.141592653589793, Estimated Pi: 3.12, Relative Error: 0.006873155106573032, memory: 2.2351741790771484e-06 GiB, time: 0.008185 s\n",
            "Pi: 3.141592653589793, Estimated Pi: 3.16, Relative Error: 0.005859240340778607, memory: 2.2351741790771484e-06 GiB, time: 0.008215 s\n",
            "Pi: 3.141592653589793, Estimated Pi: 3.08, Relative Error: 0.01960555055392467, memory: 2.2351741790771484e-06 GiB, time: 0.00824 s\n",
            "Pi: 3.141592653589793, Estimated Pi: 3.36, Relative Error: 0.06952121757753665, memory: 2.2351741790771484e-06 GiB, time: 0.008265 s\n",
            "Pi: 3.141592653589793, Estimated Pi: 3.24, Relative Error: 0.031324031235481886, memory: 2.2351741790771484e-06 GiB, time: 0.008289 s\n",
            "Pi: 3.141592653589793, Estimated Pi: 3.28, Relative Error: 0.04405642668283338, memory: 2.2351741790771484e-06 GiB, time: 0.008314 s\n",
            "Pi: 3.141592653589793, Estimated Pi: 3.08, Relative Error: 0.01960555055392467, memory: 2.2351741790771484e-06 GiB, time: 0.008338 s\n",
            "Pi: 3.141592653589793, Estimated Pi: 3.12, Relative Error: 0.006873155106573032, memory: 2.2351741790771484e-06 GiB, time: 0.008363 s\n",
            "Pi: 3.141592653589793, Estimated Pi: 3.44, Relative Error: 0.09498600847223994, memory: 2.2351741790771484e-06 GiB, time: 0.008389 s\n",
            "Pi: 3.141592653589793, Estimated Pi: 2.92, Relative Error: 0.07053513234333122, memory: 2.2351741790771484e-06 GiB, time: 0.008415 s\n",
            "Pi: 3.141592653589793, Estimated Pi: 2.92, Relative Error: 0.07053513234333122, memory: 2.2351741790771484e-06 GiB, time: 0.00844 s\n",
            "Pi: 3.141592653589793, Estimated Pi: 2.92, Relative Error: 0.07053513234333122, memory: 2.2351741790771484e-06 GiB, time: 0.008465 s\n",
            "Pi: 3.141592653589793, Estimated Pi: 3.24, Relative Error: 0.031324031235481886, memory: 2.2351741790771484e-06 GiB, time: 0.008489 s\n",
            "Pi: 3.141592653589793, Estimated Pi: 2.88, Relative Error: 0.08326752779068286, memory: 2.2351741790771484e-06 GiB, time: 0.008514 s\n",
            "Pi: 3.141592653589793, Estimated Pi: 3.44, Relative Error: 0.09498600847223994, memory: 2.2351741790771484e-06 GiB, time: 0.008539 s\n"
          ]
        }
      ]
    },
    {
      "cell_type": "code",
      "source": [],
      "metadata": {
        "colab": {
          "base_uri": "https://localhost:8080/",
          "height": 193
        },
        "id": "iVcTJFM5LG17",
        "outputId": "2e2cad06-5adb-4edb-bcd5-f20774bc83d4"
      },
      "execution_count": 7,
      "outputs": [
        {
          "output_type": "error",
          "ename": "NameError",
          "evalue": "name 'my_pi' is not defined",
          "traceback": [
            "\u001b[0;31m---------------------------------------------------------------------------\u001b[0m",
            "\u001b[0;31mNameError\u001b[0m                                 Traceback (most recent call last)",
            "\u001b[0;32m<ipython-input-7-862d7483988c>\u001b[0m in \u001b[0;36m<cell line: 0>\u001b[0;34m()\u001b[0m\n\u001b[1;32m      2\u001b[0m \u001b[0mwriter\u001b[0m \u001b[0;34m=\u001b[0m \u001b[0mcsv\u001b[0m\u001b[0;34m.\u001b[0m\u001b[0mwriter\u001b[0m\u001b[0;34m(\u001b[0m\u001b[0mf\u001b[0m\u001b[0;34m)\u001b[0m\u001b[0;34m\u001b[0m\u001b[0;34m\u001b[0m\u001b[0m\n\u001b[1;32m      3\u001b[0m \u001b[0;32mfor\u001b[0m \u001b[0mi\u001b[0m \u001b[0;32min\u001b[0m \u001b[0mrange\u001b[0m\u001b[0;34m(\u001b[0m\u001b[0;36m1\u001b[0m\u001b[0;34m)\u001b[0m\u001b[0;34m:\u001b[0m\u001b[0;34m\u001b[0m\u001b[0;34m\u001b[0m\u001b[0m\n\u001b[0;32m----> 4\u001b[0;31m   \u001b[0mrow\u001b[0m \u001b[0;34m=\u001b[0m \u001b[0;34m[\u001b[0m\u001b[0mmath\u001b[0m\u001b[0;34m.\u001b[0m\u001b[0mpi\u001b[0m\u001b[0;34m,\u001b[0m \u001b[0mmy_pi\u001b[0m\u001b[0;34m,\u001b[0m \u001b[0mrelativeError\u001b[0m\u001b[0;34m,\u001b[0m \u001b[0mmemory_required\u001b[0m\u001b[0;34m,\u001b[0m \u001b[0melapsed_time\u001b[0m\u001b[0;34m]\u001b[0m\u001b[0;34m\u001b[0m\u001b[0;34m\u001b[0m\u001b[0m\n\u001b[0m\u001b[1;32m      5\u001b[0m   \u001b[0mwriter\u001b[0m\u001b[0;34m.\u001b[0m\u001b[0mwriterow\u001b[0m\u001b[0;34m(\u001b[0m\u001b[0mrow\u001b[0m\u001b[0;34m)\u001b[0m\u001b[0;34m\u001b[0m\u001b[0;34m\u001b[0m\u001b[0m\n",
            "\u001b[0;31mNameError\u001b[0m: name 'my_pi' is not defined"
          ]
        }
      ]
    },
    {
      "cell_type": "code",
      "source": [
        "data = np.loadtxt(fname='numpyfile.csv', delimiter=',')\n",
        "NVal = data"
      ],
      "metadata": {
        "id": "O8gtKVv-eDrE"
      },
      "execution_count": null,
      "outputs": []
    },
    {
      "cell_type": "markdown",
      "source": [
        "7a."
      ],
      "metadata": {
        "id": "av4FlQHQCg9E"
      }
    },
    {
      "cell_type": "markdown",
      "source": [
        "7b."
      ],
      "metadata": {
        "id": "c2XNguCHCnAF"
      }
    },
    {
      "cell_type": "markdown",
      "source": [
        "7c."
      ],
      "metadata": {
        "id": "mr8azQFWCrXk"
      }
    }
  ]
}