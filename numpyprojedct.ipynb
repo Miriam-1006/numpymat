{
  "nbformat": 4,
  "nbformat_minor": 0,
  "metadata": {
    "colab": {
      "provenance": [],
      "gpuType": "T4",
      "authorship_tag": "ABX9TyPG0Okwbn/PbZK1Sutxgwqp",
      "include_colab_link": true
    },
    "kernelspec": {
      "name": "python3",
      "display_name": "Python 3"
    },
    "language_info": {
      "name": "python"
    },
    "accelerator": "GPU"
  },
  "cells": [
    {
      "cell_type": "markdown",
      "metadata": {
        "id": "view-in-github",
        "colab_type": "text"
      },
      "source": [
        "<a href=\"https://colab.research.google.com/github/Miriam-1006/numpymat/blob/main/numpyprojedct.ipynb\" target=\"_parent\"><img src=\"https://colab.research.google.com/assets/colab-badge.svg\" alt=\"Open In Colab\"/></a>"
      ]
    },
    {
      "cell_type": "code",
      "execution_count": 3,
      "metadata": {
        "id": "fMTeCiQ_6L_k"
      },
      "outputs": [],
      "source": [
        "import numpy as np"
      ]
    },
    {
      "cell_type": "code",
      "source": [
        "import sys\n",
        "import datetime\n",
        "import math"
      ],
      "metadata": {
        "id": "yxmY9GD47udq"
      },
      "execution_count": 7,
      "outputs": []
    },
    {
      "cell_type": "code",
      "source": [
        "total_count = 10**3\n",
        "def inside_circle(total_count):\n",
        "  x = np.random.uniform(size= total_count)\n",
        "  y = np.random.uniform(size= total_count)\n",
        "  radii = np.sqrt(x*x +y*y)\n",
        "  count = len(radii[np.where(radii<=1.0)])\n",
        "  return count"
      ],
      "metadata": {
        "id": "GnsjimyO7vLY"
      },
      "execution_count": 5,
      "outputs": []
    },
    {
      "cell_type": "code",
      "source": [
        "def main():\n",
        "  n_samples = int(total_count)\n",
        "  start_time = datetime.datetime.now()\n",
        "  counts = inside_circle(n_samples)\n",
        "  end_time = datetime.datetime.now()\n",
        "  elapsed_time = (end_time - start_time).total_seconds()\n",
        "  my_pi = 4.0 * counts / n_samples\n",
        "  relativeError = abs(abs(my_pi-math.pi)/math.pi)\n",
        "  size_of_float = np.dtype(np.float64).itemsize\n",
        "  memory_required = 3 * n_samples * size_of_float / (1024**3)\n",
        "  print(\"Pi: {}, Relative Error: {}, memory: {} GiB, time: {} s\".format(my_pi, relativeError, memory_required, elapsed_time))\n",
        "\n",
        "if __name__ == '__main__':\n",
        "  main()"
      ],
      "metadata": {
        "colab": {
          "base_uri": "https://localhost:8080/"
        },
        "id": "fY3HtDnF8sYU",
        "outputId": "d1c58de9-704f-4f96-90e2-0b4e34f3af4a"
      },
      "execution_count": 8,
      "outputs": [
        {
          "output_type": "stream",
          "name": "stdout",
          "text": [
            "Pi: 3.14, Relative Error: 0.0005069573828972128, memory: 2.2351741790771484e-05 GiB, time: 0.001023 s\n"
          ]
        }
      ]
    },
    {
      "cell_type": "markdown",
      "source": [
        "7a."
      ],
      "metadata": {
        "id": "av4FlQHQCg9E"
      }
    },
    {
      "cell_type": "markdown",
      "source": [
        "7b."
      ],
      "metadata": {
        "id": "c2XNguCHCnAF"
      }
    },
    {
      "cell_type": "markdown",
      "source": [
        "7c."
      ],
      "metadata": {
        "id": "mr8azQFWCrXk"
      }
    }
  ]
}