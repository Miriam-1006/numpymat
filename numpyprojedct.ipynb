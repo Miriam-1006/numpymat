{
  "nbformat": 4,
  "nbformat_minor": 0,
  "metadata": {
    "colab": {
      "provenance": [],
      "gpuType": "T4",
      "authorship_tag": "ABX9TyPPR69eTqfOmvqoyxEa2xmZ",
      "include_colab_link": true
    },
    "kernelspec": {
      "name": "python3",
      "display_name": "Python 3"
    },
    "language_info": {
      "name": "python"
    },
    "accelerator": "GPU"
  },
  "cells": [
    {
      "cell_type": "markdown",
      "metadata": {
        "id": "view-in-github",
        "colab_type": "text"
      },
      "source": [
        "<a href=\"https://colab.research.google.com/github/Miriam-1006/numpymat/blob/main/numpyprojedct.ipynb\" target=\"_parent\"><img src=\"https://colab.research.google.com/assets/colab-badge.svg\" alt=\"Open In Colab\"/></a>"
      ]
    },
    {
      "cell_type": "code",
      "execution_count": 6,
      "metadata": {
        "id": "fMTeCiQ_6L_k"
      },
      "outputs": [],
      "source": [
        "import numpy as np"
      ]
    },
    {
      "cell_type": "code",
      "source": [
        "import sys\n",
        "import datetime\n",
        "import math\n",
        "import matplotlib\n",
        "import csv"
      ],
      "metadata": {
        "id": "yxmY9GD47udq"
      },
      "execution_count": 11,
      "outputs": []
    },
    {
      "cell_type": "code",
      "source": [
        "total_count = 10**4\n",
        "def inside_circle(total_count):\n",
        "  x = np.random.uniform(size= total_count)\n",
        "  y = np.random.uniform(size= total_count)\n",
        "  radii = np.sqrt(x*x +y*y)\n",
        "  count = len(radii[np.where(radii<=1.0)])\n",
        "  return count"
      ],
      "metadata": {
        "id": "GnsjimyO7vLY"
      },
      "execution_count": 8,
      "outputs": []
    },
    {
      "cell_type": "code",
      "source": [
        "def main():\n",
        "  n_samples = int(total_count)\n",
        "  start_time = datetime.datetime.now()\n",
        "  counts = inside_circle(n_samples)\n",
        "  end_time = datetime.datetime.now()\n",
        "  elapsed_time = (end_time - start_time).total_seconds()\n",
        "  my_pi = 4.0 * counts / n_samples\n",
        "  relativeError = abs(abs(my_pi-math.pi)/math.pi)\n",
        "  size_of_float = np.dtype(np.float64).itemsize\n",
        "  memory_required = 3 * n_samples * size_of_float / (1024**3)\n",
        "  print(\"Pi: {}, Estimated Pi: {}, Relative Error: {}, memory: {} GiB, time: {} s\".format(math.pi, my_pi, relativeError, memory_required, elapsed_time))\n",
        "\n",
        "if __name__ == '__main__':\n",
        "  main()"
      ],
      "metadata": {
        "colab": {
          "base_uri": "https://localhost:8080/"
        },
        "id": "fY3HtDnF8sYU",
        "outputId": "950c8532-2e23-4086-8779-8a9f3dd1ccb1"
      },
      "execution_count": 22,
      "outputs": [
        {
          "output_type": "stream",
          "name": "stdout",
          "text": [
            "Pi: 3.141592653589793, Estimated Pi: 3.1668, Relative Error: 0.008023747566828287, memory: 0.00022351741790771484 GiB, time: 0.000695 s\n"
          ]
        }
      ]
    },
    {
      "cell_type": "code",
      "source": [
        "f = open('numpyfile.csv', 'w', newline='')\n",
        "writer = csv.writer(f)\n",
        "for i in range(1):\n",
        "  row = [math.pi, my_pi, relativeError, memory_required, elapsed_time]\n",
        "  writer.writerow(row)"
      ],
      "metadata": {
        "colab": {
          "base_uri": "https://localhost:8080/",
          "height": 193
        },
        "id": "iVcTJFM5LG17",
        "outputId": "34875f6e-0fc4-4cf1-b44a-8cc779da7df3"
      },
      "execution_count": 12,
      "outputs": [
        {
          "output_type": "error",
          "ename": "NameError",
          "evalue": "name 'my_pi' is not defined",
          "traceback": [
            "\u001b[0;31m---------------------------------------------------------------------------\u001b[0m",
            "\u001b[0;31mNameError\u001b[0m                                 Traceback (most recent call last)",
            "\u001b[0;32m<ipython-input-12-862d7483988c>\u001b[0m in \u001b[0;36m<cell line: 0>\u001b[0;34m()\u001b[0m\n\u001b[1;32m      2\u001b[0m \u001b[0mwriter\u001b[0m \u001b[0;34m=\u001b[0m \u001b[0mcsv\u001b[0m\u001b[0;34m.\u001b[0m\u001b[0mwriter\u001b[0m\u001b[0;34m(\u001b[0m\u001b[0mf\u001b[0m\u001b[0;34m)\u001b[0m\u001b[0;34m\u001b[0m\u001b[0;34m\u001b[0m\u001b[0m\n\u001b[1;32m      3\u001b[0m \u001b[0;32mfor\u001b[0m \u001b[0mi\u001b[0m \u001b[0;32min\u001b[0m \u001b[0mrange\u001b[0m\u001b[0;34m(\u001b[0m\u001b[0;36m1\u001b[0m\u001b[0;34m)\u001b[0m\u001b[0;34m:\u001b[0m\u001b[0;34m\u001b[0m\u001b[0;34m\u001b[0m\u001b[0m\n\u001b[0;32m----> 4\u001b[0;31m   \u001b[0mrow\u001b[0m \u001b[0;34m=\u001b[0m \u001b[0;34m[\u001b[0m\u001b[0mmath\u001b[0m\u001b[0;34m.\u001b[0m\u001b[0mpi\u001b[0m\u001b[0;34m,\u001b[0m \u001b[0mmy_pi\u001b[0m\u001b[0;34m,\u001b[0m \u001b[0mrelativeError\u001b[0m\u001b[0;34m,\u001b[0m \u001b[0mmemory_required\u001b[0m\u001b[0;34m,\u001b[0m \u001b[0melapsed_time\u001b[0m\u001b[0;34m]\u001b[0m\u001b[0;34m\u001b[0m\u001b[0;34m\u001b[0m\u001b[0m\n\u001b[0m\u001b[1;32m      5\u001b[0m   \u001b[0mwriter\u001b[0m\u001b[0;34m.\u001b[0m\u001b[0mwriterow\u001b[0m\u001b[0;34m(\u001b[0m\u001b[0mrow\u001b[0m\u001b[0;34m)\u001b[0m\u001b[0;34m\u001b[0m\u001b[0;34m\u001b[0m\u001b[0m\n",
            "\u001b[0;31mNameError\u001b[0m: name 'my_pi' is not defined"
          ]
        }
      ]
    },
    {
      "cell_type": "markdown",
      "source": [
        "7a."
      ],
      "metadata": {
        "id": "av4FlQHQCg9E"
      }
    },
    {
      "cell_type": "markdown",
      "source": [
        "7b."
      ],
      "metadata": {
        "id": "c2XNguCHCnAF"
      }
    },
    {
      "cell_type": "markdown",
      "source": [
        "7c."
      ],
      "metadata": {
        "id": "mr8azQFWCrXk"
      }
    }
  ]
}